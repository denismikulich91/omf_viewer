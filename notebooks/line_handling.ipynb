{
 "cells": [
  {
   "cell_type": "code",
   "execution_count": 1,
   "id": "initial_id",
   "metadata": {
    "collapsed": true,
    "ExecuteTime": {
     "end_time": "2024-01-07T18:40:46.308898Z",
     "start_time": "2024-01-07T18:40:46.048151Z"
    }
   },
   "outputs": [],
   "source": [
    "import utils.omf as omf\n",
    "from utils.omfhandlers import LinesHandler"
   ]
  },
  {
   "cell_type": "code",
   "outputs": [
    {
     "data": {
      "text/plain": "[<utils.omf.pointset.PointSet at 0x110b5cd40>,\n <utils.omf.lineset.LineSet at 0x1371f4c80>,\n <utils.omf.surface.Surface at 0x148af4bc0>,\n <utils.omf.surface.Surface at 0x148abc8f0>,\n <utils.omf.surface.Surface at 0x111753230>,\n <utils.omf.surface.Surface at 0x13713ac90>,\n <utils.omf.surface.Surface at 0x148b1b710>,\n <utils.omf.surface.Surface at 0x13713b560>,\n <utils.omf.blockmodel.TensorGridBlockModel at 0x148bc7530>]"
     },
     "execution_count": 2,
     "metadata": {},
     "output_type": "execute_result"
    }
   ],
   "source": [
    "project = omf.load('../assets/v0/test_file.omf')\n",
    "project.elements"
   ],
   "metadata": {
    "collapsed": false,
    "ExecuteTime": {
     "end_time": "2024-01-07T18:40:46.492407Z",
     "start_time": "2024-01-07T18:40:46.310036Z"
    }
   },
   "id": "3d2ee8ed31ddbbcc",
   "execution_count": 2
  },
  {
   "cell_type": "code",
   "outputs": [
    {
     "data": {
      "text/plain": "'wolfpass_WP_assay'"
     },
     "execution_count": 3,
     "metadata": {},
     "output_type": "execute_result"
    }
   ],
   "source": [
    "lines = project.elements[1]\n",
    "lines.name"
   ],
   "metadata": {
    "collapsed": false,
    "ExecuteTime": {
     "end_time": "2024-01-07T18:40:46.494961Z",
     "start_time": "2024-01-07T18:40:46.492890Z"
    }
   },
   "id": "b1764bf037cdd159",
   "execution_count": 3
  },
  {
   "cell_type": "code",
   "outputs": [
    {
     "data": {
      "text/plain": "{'name': 'wolfpass_WP_assay',\n 'description': '',\n 'metadata': {'subtype': 'line',\n  'date_created': '2017-02-27T00:21:31Z',\n  'date_modified': '2017-08-29T18:25:22Z',\n  'color': [199, 199, 199]},\n 'attributes': [{'name': 'CU_pct',\n   'description': '',\n   'metadata': {'date_created': '2017-02-27T00:21:31Z',\n    'date_modified': '2017-02-27T00:21:31Z'},\n   'array': {'data_type': 'Float64Array',\n    'shape': [8583],\n    'size': 68664,\n    '__class__': 'Array',\n    'schema': 'org.omf.v2.array.numeric'},\n   'location': 'segments',\n   '__class__': 'NumericAttribute',\n   'schema': 'org.omf.v2.attribute.numeric'},\n  {'name': 'DENSITY',\n   'description': '',\n   'metadata': {'date_created': '2017-02-27T00:21:31Z',\n    'date_modified': '2017-02-27T00:21:31Z'},\n   'array': {'data_type': 'Float64Array',\n    'shape': [8583],\n    'size': 68664,\n    '__class__': 'Array',\n    'schema': 'org.omf.v2.array.numeric'},\n   'location': 'segments',\n   '__class__': 'NumericAttribute',\n   'schema': 'org.omf.v2.attribute.numeric'},\n  {'name': 'AG_gpt',\n   'description': '',\n   'metadata': {'date_created': '2017-02-27T00:21:31Z',\n    'date_modified': '2017-02-27T00:21:31Z'},\n   'array': {'data_type': 'Float64Array',\n    'shape': [8583],\n    'size': 68664,\n    '__class__': 'Array',\n    'schema': 'org.omf.v2.array.numeric'},\n   'location': 'segments',\n   '__class__': 'NumericAttribute',\n   'schema': 'org.omf.v2.attribute.numeric'},\n  {'name': 'AU_gpt',\n   'description': '',\n   'metadata': {'date_created': '2017-02-27T00:21:31Z',\n    'date_modified': '2017-02-27T00:21:31Z'},\n   'array': {'data_type': 'Float64Array',\n    'shape': [8583],\n    'size': 68664,\n    '__class__': 'Array',\n    'schema': 'org.omf.v2.array.numeric'},\n   'location': 'segments',\n   '__class__': 'NumericAttribute',\n   'schema': 'org.omf.v2.attribute.numeric'},\n  {'name': 'RECOV',\n   'description': '',\n   'metadata': {'date_created': '2017-02-27T00:21:31Z',\n    'date_modified': '2017-02-27T00:21:31Z'},\n   'array': {'data_type': 'Float64Array',\n    'shape': [8583],\n    'size': 68664,\n    '__class__': 'Array',\n    'schema': 'org.omf.v2.array.numeric'},\n   'location': 'segments',\n   '__class__': 'NumericAttribute',\n   'schema': 'org.omf.v2.attribute.numeric'},\n  {'name': 'S_pct',\n   'description': '',\n   'metadata': {'date_created': '2017-02-27T00:21:31Z',\n    'date_modified': '2017-02-27T00:21:31Z'},\n   'array': {'data_type': 'Float64Array',\n    'shape': [8583],\n    'size': 68664,\n    '__class__': 'Array',\n    'schema': 'org.omf.v2.array.numeric'},\n   'location': 'segments',\n   '__class__': 'NumericAttribute',\n   'schema': 'org.omf.v2.attribute.numeric'},\n  {'name': 'MO_ppm',\n   'description': '',\n   'metadata': {'date_created': '2017-02-27T00:21:31Z',\n    'date_modified': '2017-02-27T00:21:31Z'},\n   'array': {'data_type': 'Float64Array',\n    'shape': [8583],\n    'size': 68664,\n    '__class__': 'Array',\n    'schema': 'org.omf.v2.array.numeric'},\n   'location': 'segments',\n   '__class__': 'NumericAttribute',\n   'schema': 'org.omf.v2.attribute.numeric'},\n  {'name': 'AS_ppm',\n   'description': '',\n   'metadata': {'date_created': '2017-02-27T00:21:31Z',\n    'date_modified': '2017-02-27T00:21:31Z'},\n   'array': {'data_type': 'Float64Array',\n    'shape': [8583],\n    'size': 68664,\n    '__class__': 'Array',\n    'schema': 'org.omf.v2.array.numeric'},\n   'location': 'segments',\n   '__class__': 'NumericAttribute',\n   'schema': 'org.omf.v2.attribute.numeric'},\n  {'name': 'Final_cut',\n   'description': '',\n   'metadata': {'date_created': '2017-02-27T00:21:31Z',\n    'date_modified': '2017-02-27T00:21:31Z'},\n   'array': {'data_type': 'Int64Array',\n    'shape': [8583],\n    'size': 68664,\n    '__class__': 'Array',\n    'schema': 'org.omf.v2.array.numeric'},\n   'categories': {'name': 'Final_cut',\n    'description': '',\n    'metadata': {'date_created': '2017-02-27T00:21:27Z',\n     'date_modified': '2017-02-27T00:21:27Z'},\n    'indices': [0, 1, 2],\n    'values': ['Ignored', 'Ore', 'waste'],\n    'colors': [[116, 55, 240], [87, 148, 108], [198, 250, 190]],\n    '__class__': 'CategoryColormap',\n    'schema': 'org.omf.v2.colormap.category'},\n   'location': 'segments',\n   '__class__': 'CategoryAttribute',\n   'schema': 'org.omf.v2.attribute.category'},\n  {'name': 'holeid',\n   'description': '',\n   'metadata': {'date_created': '2017-02-27T00:21:31Z',\n    'date_modified': '2017-02-27T00:21:31Z'},\n   'array': {'data_type': 'Int64Array',\n    'shape': [8583],\n    'size': 68664,\n    '__class__': 'Array',\n    'schema': 'org.omf.v2.array.numeric'},\n   'categories': {'name': 'holeid',\n    'description': '',\n    'metadata': {'date_created': '2017-02-27T00:21:27Z',\n     'date_modified': '2017-02-27T00:21:27Z'},\n    'indices': [0,\n     1,\n     2,\n     3,\n     4,\n     5,\n     6,\n     7,\n     8,\n     9,\n     10,\n     11,\n     12,\n     13,\n     14,\n     15,\n     16,\n     17,\n     18,\n     19,\n     20,\n     21,\n     22,\n     23,\n     24,\n     25,\n     26,\n     27,\n     28,\n     29,\n     30,\n     31,\n     32,\n     33,\n     34,\n     35,\n     36,\n     37,\n     38,\n     39,\n     40,\n     41,\n     42,\n     43,\n     44,\n     45,\n     46,\n     47,\n     48,\n     49,\n     50,\n     51,\n     52,\n     53,\n     54],\n    'values': ['WP001',\n     'WP002',\n     'WP003',\n     'WP004',\n     'WP005',\n     'WP006',\n     'WP007',\n     'WP008',\n     'WP009',\n     'WP010',\n     'WP011',\n     'WP012',\n     'WP013',\n     'WP014',\n     'WP015',\n     'WP016',\n     'WP017',\n     'WP018',\n     'WP019',\n     'WP020',\n     'WP021',\n     'WP022',\n     'WP023',\n     'WP025',\n     'WP026',\n     'WP027',\n     'WP028',\n     'WP029',\n     'WP030',\n     'WP031',\n     'WP032',\n     'WP033',\n     'WP034',\n     'WP035',\n     'WP036',\n     'WP037',\n     'WP038',\n     'WP039',\n     'WP040',\n     'WP041',\n     'WP043',\n     'WP044',\n     'WP045',\n     'WP046',\n     'WP047',\n     'WP048',\n     'WP049',\n     'WP050',\n     'WP052',\n     'WP053',\n     'WP054',\n     'WP055',\n     'WP056',\n     'WP057',\n     'WP058'],\n    'colors': [[61, 255, 255],\n     [255, 61, 158],\n     [255, 61, 61],\n     [211, 255, 168],\n     [255, 255, 61],\n     [255, 61, 61],\n     [25, 255, 255],\n     [61, 61, 255],\n     [255, 175, 96],\n     [132, 255, 255],\n     [193, 255, 132],\n     [255, 132, 255],\n     [255, 96, 175],\n     [61, 255, 158],\n     [96, 175, 255],\n     [61, 255, 158],\n     [255, 255, 168],\n     [132, 255, 132],\n     [96, 255, 255],\n     [175, 255, 96],\n     [175, 96, 255],\n     [255, 25, 25],\n     [132, 255, 193],\n     [255, 25, 255],\n     [168, 255, 168],\n     [158, 61, 255],\n     [25, 25, 255],\n     [96, 255, 96],\n     [255, 255, 132],\n     [255, 168, 168],\n     [132, 193, 255],\n     [140, 255, 25],\n     [255, 255, 96],\n     [61, 255, 61],\n     [255, 255, 25],\n     [255, 140, 25],\n     [96, 96, 255],\n     [255, 132, 193],\n     [25, 255, 25],\n     [255, 211, 168],\n     [96, 255, 175],\n     [25, 255, 140],\n     [255, 61, 255],\n     [255, 193, 132],\n     [140, 25, 255],\n     [255, 158, 61],\n     [255, 25, 140],\n     [255, 96, 96],\n     [255, 96, 255],\n     [158, 255, 61],\n     [61, 158, 255],\n     [193, 132, 255],\n     [255, 132, 132],\n     [25, 140, 255],\n     [132, 132, 255]],\n    '__class__': 'CategoryColormap',\n    'schema': 'org.omf.v2.colormap.category'},\n   'location': 'segments',\n   '__class__': 'CategoryAttribute',\n   'schema': 'org.omf.v2.attribute.category'}],\n 'origin': [0.0, 0.0, 0.0],\n 'vertices': {'data_type': 'Float64Array',\n  'shape': [8638, 3],\n  'size': 207312,\n  '__class__': 'Array',\n  'schema': 'org.omf.v2.array.numeric'},\n 'segments': {'data_type': 'Int64Array',\n  'shape': [8583, 2],\n  'size': 137328,\n  '__class__': 'Array',\n  'schema': 'org.omf.v2.array.numeric'},\n '__class__': 'LineSet',\n 'schema': 'org.omf.v2.element.lineset'}"
     },
     "execution_count": 4,
     "metadata": {},
     "output_type": "execute_result"
    }
   ],
   "source": [
    "lines.serialize()"
   ],
   "metadata": {
    "collapsed": false,
    "ExecuteTime": {
     "end_time": "2024-01-07T18:40:46.500642Z",
     "start_time": "2024-01-07T18:40:46.498373Z"
    }
   },
   "id": "badd1c61d598cb12",
   "execution_count": 4
  },
  {
   "cell_type": "code",
   "outputs": [
    {
     "data": {
      "text/plain": "8638"
     },
     "execution_count": 5,
     "metadata": {},
     "output_type": "execute_result"
    }
   ],
   "source": [
    "len(lines.vertices.array)"
   ],
   "metadata": {
    "collapsed": false,
    "ExecuteTime": {
     "end_time": "2024-01-07T18:40:46.504379Z",
     "start_time": "2024-01-07T18:40:46.501680Z"
    }
   },
   "id": "beef037b1847ec07",
   "execution_count": 5
  },
  {
   "cell_type": "code",
   "outputs": [
    {
     "data": {
      "text/plain": "array([[   0,    1],\n       [   1,    2],\n       [   2,    3],\n       ...,\n       [8634, 8635],\n       [8635, 8636],\n       [8636, 8637]])"
     },
     "execution_count": 6,
     "metadata": {},
     "output_type": "execute_result"
    }
   ],
   "source": [
    "lines.segments.array"
   ],
   "metadata": {
    "collapsed": false,
    "ExecuteTime": {
     "end_time": "2024-01-07T18:40:46.507362Z",
     "start_time": "2024-01-07T18:40:46.504367Z"
    }
   },
   "id": "18466bdc31c6ae40",
   "execution_count": 6
  },
  {
   "cell_type": "code",
   "outputs": [
    {
     "data": {
      "text/plain": "[8583, 8583, 8583, 8583, 8583, 8583, 8583, 8583, 8583, 8583]"
     },
     "execution_count": 7,
     "metadata": {},
     "output_type": "execute_result"
    }
   ],
   "source": [
    "[ len(i.array.array) for i in lines.attributes]"
   ],
   "metadata": {
    "collapsed": false,
    "ExecuteTime": {
     "end_time": "2024-01-07T18:40:46.514250Z",
     "start_time": "2024-01-07T18:40:46.507149Z"
    }
   },
   "id": "a7daf52ae0801f1b",
   "execution_count": 7
  },
  {
   "cell_type": "code",
   "outputs": [],
   "source": [
    "handled_lines = LinesHandler(lines, \"holeid\")"
   ],
   "metadata": {
    "collapsed": false,
    "ExecuteTime": {
     "end_time": "2024-01-07T18:40:46.514446Z",
     "start_time": "2024-01-07T18:40:46.509278Z"
    }
   },
   "id": "668f3ffc6e2f01b8",
   "execution_count": 8
  },
  {
   "cell_type": "code",
   "outputs": [],
   "source": [
    "df = handled_lines.lineset_to_pandas_dataframe()"
   ],
   "metadata": {
    "collapsed": false,
    "ExecuteTime": {
     "end_time": "2024-01-07T18:40:47.013220Z",
     "start_time": "2024-01-07T18:40:46.510482Z"
    }
   },
   "id": "405edaae504dbf87",
   "execution_count": 9
  },
  {
   "cell_type": "code",
   "outputs": [
    {
     "name": "stdout",
     "output_type": "stream",
     "text": [
      "      CU_pct  DENSITY  AG_gpt  AU_gpt  RECOV  S_pct  MO_ppm  AS_ppm  \\\n",
      "0       0.79      NaN    6.35    1.75   0.50  -0.01    10.0    26.3   \n",
      "1       0.83      NaN    5.20    1.73   1.30  -0.01    12.2    31.0   \n",
      "2       0.84      NaN    5.75    6.00   1.80  -0.01    24.8    32.5   \n",
      "3       0.83     2.32    2.85    2.56   1.80   0.20    15.7    13.9   \n",
      "4       0.97     2.98    2.90    1.53   2.00   0.50    14.8    15.5   \n",
      "...      ...      ...     ...     ...    ...    ...     ...     ...   \n",
      "8578    0.02      NaN    0.01    0.50   2.00    NaN     NaN     NaN   \n",
      "8579    0.02      NaN    0.01    0.47   2.00    NaN     NaN     NaN   \n",
      "8580    0.02      NaN    0.01    0.38   2.00    NaN     NaN     NaN   \n",
      "8581    0.02      NaN    0.01    0.65   1.80    NaN     NaN     NaN   \n",
      "8582    0.02      NaN    0.01    0.66   1.45    NaN     NaN     NaN   \n",
      "\n",
      "      Final_cut  holeid        x_start        y_start      z_start  \\\n",
      "0             2       0  445198.219000  494110.594000  3057.757537   \n",
      "1             2       0  445199.504526  494110.582781  3056.225448   \n",
      "2             2       0  445200.790053  494110.571563  3054.693359   \n",
      "3             2       0  445202.075579  494110.560344  3053.161270   \n",
      "4             2       0  445203.361105  494110.549126  3051.629181   \n",
      "...         ...     ...            ...            ...          ...   \n",
      "8578          2      54  444971.071979  494102.406000  3060.211647   \n",
      "8579          2      54  444970.387938  494102.406000  3058.332262   \n",
      "8580          2      54  444969.703898  494102.406000  3056.452876   \n",
      "8581          2      54  444969.019858  494102.406000  3054.573491   \n",
      "8582          2      54            NaN            NaN          NaN   \n",
      "\n",
      "              x_end          y_end        z_end  \n",
      "0     445199.504526  494110.582781  3056.225448  \n",
      "1     445200.790053  494110.571563  3054.693359  \n",
      "2     445202.075579  494110.560344  3053.161270  \n",
      "3     445203.361105  494110.549126  3051.629181  \n",
      "4     445204.646631  494110.537907  3050.097093  \n",
      "...             ...            ...          ...  \n",
      "8578  444970.387938  494102.406000  3058.332262  \n",
      "8579  444969.703898  494102.406000  3056.452876  \n",
      "8580  444969.019858  494102.406000  3054.573491  \n",
      "8581  444968.335817  494102.406000  3052.694106  \n",
      "8582            NaN            NaN          NaN  \n",
      "\n",
      "[8583 rows x 16 columns]\n"
     ]
    }
   ],
   "source": [
    "print(df)"
   ],
   "metadata": {
    "collapsed": false,
    "ExecuteTime": {
     "end_time": "2024-01-07T18:40:47.019189Z",
     "start_time": "2024-01-07T18:40:47.013589Z"
    }
   },
   "id": "db57cb020f50d9d3",
   "execution_count": 10
  },
  {
   "cell_type": "code",
   "outputs": [],
   "source": [],
   "metadata": {
    "collapsed": false,
    "ExecuteTime": {
     "end_time": "2024-01-07T18:40:47.021677Z",
     "start_time": "2024-01-07T18:40:47.019529Z"
    }
   },
   "id": "250ac10d3cdc6a06",
   "execution_count": 10
  }
 ],
 "metadata": {
  "kernelspec": {
   "display_name": "Python 3",
   "language": "python",
   "name": "python3"
  },
  "language_info": {
   "codemirror_mode": {
    "name": "ipython",
    "version": 2
   },
   "file_extension": ".py",
   "mimetype": "text/x-python",
   "name": "python",
   "nbconvert_exporter": "python",
   "pygments_lexer": "ipython2",
   "version": "2.7.6"
  }
 },
 "nbformat": 4,
 "nbformat_minor": 5
}
