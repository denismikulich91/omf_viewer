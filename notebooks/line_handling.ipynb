{
 "cells": [
  {
   "cell_type": "code",
   "execution_count": 8,
   "id": "initial_id",
   "metadata": {
    "collapsed": true,
    "ExecuteTime": {
     "end_time": "2024-01-07T21:17:56.127001Z",
     "start_time": "2024-01-07T21:17:56.119232Z"
    }
   },
   "outputs": [],
   "source": [
    "import utils.omf as omf\n",
    "from utils.omfhandlers import LinesHandler\n",
    "from pprint import pprint\n",
    "import matplotlib.pyplot as plt\n",
    "from mpl_toolkits.mplot3d import Axes3D\n"
   ]
  },
  {
   "cell_type": "code",
   "outputs": [],
   "source": [
    "project = omf.load('../assets/v0/test_file.omf')\n"
   ],
   "metadata": {
    "collapsed": false,
    "ExecuteTime": {
     "end_time": "2024-01-07T21:17:56.300049Z",
     "start_time": "2024-01-07T21:17:56.129168Z"
    }
   },
   "id": "3d2ee8ed31ddbbcc",
   "execution_count": 9
  },
  {
   "cell_type": "code",
   "outputs": [],
   "source": [
    "lines = project.elements[1]\n",
    "\n",
    "attribute = [attribute for attribute in lines.attributes if attribute.name == \"holeid\"]\n",
    "\n",
    "handled_lines = LinesHandler(lines, \"holeid\")\n",
    "\n",
    "df = handled_lines.lineset_to_pandas_dataframe()\n",
    "# %matplotlib tk\n",
    "fig = plt.figure()\n",
    "ax = fig.add_subplot(111, projection='3d')\n",
    "x_coordinates = [vertex for vertex in df[\"x_start\"]]\n",
    "y_coordinates = [vertex for vertex in df[\"y_start\"]]\n",
    "z_coordinates = [vertex for vertex in df[\"z_start\"]]\n",
    "\n",
    "colors = ['blue' if holeid%2 else 'red' for holeid in df[\"holeid\"]]\n",
    "\n",
    "ax.scatter(x_coordinates, y_coordinates, z_coordinates, c=colors)\n",
    "ax.set_xlabel('X Coordinate')\n",
    "ax.set_ylabel('Y Coordinate')\n",
    "ax.set_zlabel('Z Coordinate')\n",
    "plt.title('3D Coordinates Scatter Plot')\n",
    "\n",
    "plt.show()"
   ],
   "metadata": {
    "collapsed": false,
    "ExecuteTime": {
     "end_time": "2024-01-07T21:17:57.302051Z",
     "start_time": "2024-01-07T21:17:56.305331Z"
    }
   },
   "id": "f8ed07bebab55c42",
   "execution_count": 10
  },
  {
   "cell_type": "code",
   "outputs": [
    {
     "data": {
      "text/plain": "      CU_pct  DENSITY  AG_gpt  AU_gpt  RECOV  S_pct  MO_ppm  AS_ppm  \\\n0       0.79      NaN    6.35    1.75   0.50  -0.01    10.0    26.3   \n1       0.83      NaN    5.20    1.73   1.30  -0.01    12.2    31.0   \n2       0.84      NaN    5.75    6.00   1.80  -0.01    24.8    32.5   \n3       0.83     2.32    2.85    2.56   1.80   0.20    15.7    13.9   \n4       0.97     2.98    2.90    1.53   2.00   0.50    14.8    15.5   \n...      ...      ...     ...     ...    ...    ...     ...     ...   \n8578    0.02      NaN    0.01    0.50   2.00    NaN     NaN     NaN   \n8579    0.02      NaN    0.01    0.47   2.00    NaN     NaN     NaN   \n8580    0.02      NaN    0.01    0.38   2.00    NaN     NaN     NaN   \n8581    0.02      NaN    0.01    0.65   1.80    NaN     NaN     NaN   \n8582    0.02      NaN    0.01    0.66   1.45    NaN     NaN     NaN   \n\n      Final_cut  holeid        x_start        y_start      z_start  \\\n0             2       0  445198.219000  494110.594000  3057.757537   \n1             2       0  445199.504526  494110.582781  3056.225448   \n2             2       0  445200.790053  494110.571563  3054.693359   \n3             2       0  445202.075579  494110.560344  3053.161270   \n4             2       0  445203.361105  494110.549126  3051.629181   \n...         ...     ...            ...            ...          ...   \n8578          2      54  445467.166066  493600.000000  2831.144868   \n8579          2      54  445466.482026  493600.000000  2829.265483   \n8580          2      54  445465.797986  493600.000000  2827.386098   \n8581          2      54  445465.113945  493600.000000  2825.506713   \n8582          2      54  445464.429905  493600.000000  2823.627327   \n\n              x_end          y_end        z_end  \n0     445199.504526  494110.582781  3056.225448  \n1     445200.790053  494110.571563  3054.693359  \n2     445202.075579  494110.560344  3053.161270  \n3     445203.361105  494110.549126  3051.629181  \n4     445204.646631  494110.537907  3050.097093  \n...             ...            ...          ...  \n8578  445466.482026  493600.000000  2829.265483  \n8579  445465.797986  493600.000000  2827.386098  \n8580  445465.113945  493600.000000  2825.506713  \n8581  445464.429905  493600.000000  2823.627327  \n8582  445463.933977  493600.000000  2822.264776  \n\n[8583 rows x 16 columns]",
      "text/html": "<div>\n<style scoped>\n    .dataframe tbody tr th:only-of-type {\n        vertical-align: middle;\n    }\n\n    .dataframe tbody tr th {\n        vertical-align: top;\n    }\n\n    .dataframe thead th {\n        text-align: right;\n    }\n</style>\n<table border=\"1\" class=\"dataframe\">\n  <thead>\n    <tr style=\"text-align: right;\">\n      <th></th>\n      <th>CU_pct</th>\n      <th>DENSITY</th>\n      <th>AG_gpt</th>\n      <th>AU_gpt</th>\n      <th>RECOV</th>\n      <th>S_pct</th>\n      <th>MO_ppm</th>\n      <th>AS_ppm</th>\n      <th>Final_cut</th>\n      <th>holeid</th>\n      <th>x_start</th>\n      <th>y_start</th>\n      <th>z_start</th>\n      <th>x_end</th>\n      <th>y_end</th>\n      <th>z_end</th>\n    </tr>\n  </thead>\n  <tbody>\n    <tr>\n      <th>0</th>\n      <td>0.79</td>\n      <td>NaN</td>\n      <td>6.35</td>\n      <td>1.75</td>\n      <td>0.50</td>\n      <td>-0.01</td>\n      <td>10.0</td>\n      <td>26.3</td>\n      <td>2</td>\n      <td>0</td>\n      <td>445198.219000</td>\n      <td>494110.594000</td>\n      <td>3057.757537</td>\n      <td>445199.504526</td>\n      <td>494110.582781</td>\n      <td>3056.225448</td>\n    </tr>\n    <tr>\n      <th>1</th>\n      <td>0.83</td>\n      <td>NaN</td>\n      <td>5.20</td>\n      <td>1.73</td>\n      <td>1.30</td>\n      <td>-0.01</td>\n      <td>12.2</td>\n      <td>31.0</td>\n      <td>2</td>\n      <td>0</td>\n      <td>445199.504526</td>\n      <td>494110.582781</td>\n      <td>3056.225448</td>\n      <td>445200.790053</td>\n      <td>494110.571563</td>\n      <td>3054.693359</td>\n    </tr>\n    <tr>\n      <th>2</th>\n      <td>0.84</td>\n      <td>NaN</td>\n      <td>5.75</td>\n      <td>6.00</td>\n      <td>1.80</td>\n      <td>-0.01</td>\n      <td>24.8</td>\n      <td>32.5</td>\n      <td>2</td>\n      <td>0</td>\n      <td>445200.790053</td>\n      <td>494110.571563</td>\n      <td>3054.693359</td>\n      <td>445202.075579</td>\n      <td>494110.560344</td>\n      <td>3053.161270</td>\n    </tr>\n    <tr>\n      <th>3</th>\n      <td>0.83</td>\n      <td>2.32</td>\n      <td>2.85</td>\n      <td>2.56</td>\n      <td>1.80</td>\n      <td>0.20</td>\n      <td>15.7</td>\n      <td>13.9</td>\n      <td>2</td>\n      <td>0</td>\n      <td>445202.075579</td>\n      <td>494110.560344</td>\n      <td>3053.161270</td>\n      <td>445203.361105</td>\n      <td>494110.549126</td>\n      <td>3051.629181</td>\n    </tr>\n    <tr>\n      <th>4</th>\n      <td>0.97</td>\n      <td>2.98</td>\n      <td>2.90</td>\n      <td>1.53</td>\n      <td>2.00</td>\n      <td>0.50</td>\n      <td>14.8</td>\n      <td>15.5</td>\n      <td>2</td>\n      <td>0</td>\n      <td>445203.361105</td>\n      <td>494110.549126</td>\n      <td>3051.629181</td>\n      <td>445204.646631</td>\n      <td>494110.537907</td>\n      <td>3050.097093</td>\n    </tr>\n    <tr>\n      <th>...</th>\n      <td>...</td>\n      <td>...</td>\n      <td>...</td>\n      <td>...</td>\n      <td>...</td>\n      <td>...</td>\n      <td>...</td>\n      <td>...</td>\n      <td>...</td>\n      <td>...</td>\n      <td>...</td>\n      <td>...</td>\n      <td>...</td>\n      <td>...</td>\n      <td>...</td>\n      <td>...</td>\n    </tr>\n    <tr>\n      <th>8578</th>\n      <td>0.02</td>\n      <td>NaN</td>\n      <td>0.01</td>\n      <td>0.50</td>\n      <td>2.00</td>\n      <td>NaN</td>\n      <td>NaN</td>\n      <td>NaN</td>\n      <td>2</td>\n      <td>54</td>\n      <td>445467.166066</td>\n      <td>493600.000000</td>\n      <td>2831.144868</td>\n      <td>445466.482026</td>\n      <td>493600.000000</td>\n      <td>2829.265483</td>\n    </tr>\n    <tr>\n      <th>8579</th>\n      <td>0.02</td>\n      <td>NaN</td>\n      <td>0.01</td>\n      <td>0.47</td>\n      <td>2.00</td>\n      <td>NaN</td>\n      <td>NaN</td>\n      <td>NaN</td>\n      <td>2</td>\n      <td>54</td>\n      <td>445466.482026</td>\n      <td>493600.000000</td>\n      <td>2829.265483</td>\n      <td>445465.797986</td>\n      <td>493600.000000</td>\n      <td>2827.386098</td>\n    </tr>\n    <tr>\n      <th>8580</th>\n      <td>0.02</td>\n      <td>NaN</td>\n      <td>0.01</td>\n      <td>0.38</td>\n      <td>2.00</td>\n      <td>NaN</td>\n      <td>NaN</td>\n      <td>NaN</td>\n      <td>2</td>\n      <td>54</td>\n      <td>445465.797986</td>\n      <td>493600.000000</td>\n      <td>2827.386098</td>\n      <td>445465.113945</td>\n      <td>493600.000000</td>\n      <td>2825.506713</td>\n    </tr>\n    <tr>\n      <th>8581</th>\n      <td>0.02</td>\n      <td>NaN</td>\n      <td>0.01</td>\n      <td>0.65</td>\n      <td>1.80</td>\n      <td>NaN</td>\n      <td>NaN</td>\n      <td>NaN</td>\n      <td>2</td>\n      <td>54</td>\n      <td>445465.113945</td>\n      <td>493600.000000</td>\n      <td>2825.506713</td>\n      <td>445464.429905</td>\n      <td>493600.000000</td>\n      <td>2823.627327</td>\n    </tr>\n    <tr>\n      <th>8582</th>\n      <td>0.02</td>\n      <td>NaN</td>\n      <td>0.01</td>\n      <td>0.66</td>\n      <td>1.45</td>\n      <td>NaN</td>\n      <td>NaN</td>\n      <td>NaN</td>\n      <td>2</td>\n      <td>54</td>\n      <td>445464.429905</td>\n      <td>493600.000000</td>\n      <td>2823.627327</td>\n      <td>445463.933977</td>\n      <td>493600.000000</td>\n      <td>2822.264776</td>\n    </tr>\n  </tbody>\n</table>\n<p>8583 rows × 16 columns</p>\n</div>"
     },
     "execution_count": 11,
     "metadata": {},
     "output_type": "execute_result"
    }
   ],
   "source": [
    "df"
   ],
   "metadata": {
    "collapsed": false,
    "ExecuteTime": {
     "end_time": "2024-01-07T21:17:57.315190Z",
     "start_time": "2024-01-07T21:17:57.309844Z"
    }
   },
   "id": "8a78a826b65d5115",
   "execution_count": 11
  },
  {
   "cell_type": "code",
   "outputs": [],
   "source": [],
   "metadata": {
    "collapsed": false,
    "ExecuteTime": {
     "end_time": "2024-01-07T21:17:57.315370Z",
     "start_time": "2024-01-07T21:17:57.313658Z"
    }
   },
   "id": "59ddd07004556ded",
   "execution_count": 11
  }
 ],
 "metadata": {
  "kernelspec": {
   "display_name": "Python 3",
   "language": "python",
   "name": "python3"
  },
  "language_info": {
   "codemirror_mode": {
    "name": "ipython",
    "version": 2
   },
   "file_extension": ".py",
   "mimetype": "text/x-python",
   "name": "python",
   "nbconvert_exporter": "python",
   "pygments_lexer": "ipython2",
   "version": "2.7.6"
  }
 },
 "nbformat": 4,
 "nbformat_minor": 5
}
