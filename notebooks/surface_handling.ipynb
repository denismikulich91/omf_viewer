{
 "cells": [
  {
   "cell_type": "code",
   "outputs": [],
   "source": [
    "import utils.omf as omf\n",
    "from utils.omfhandlers import SurfaceHandler"
   ],
   "metadata": {
    "collapsed": false,
    "ExecuteTime": {
     "end_time": "2024-01-07T16:21:59.016313Z",
     "start_time": "2024-01-07T16:21:58.569138Z"
    }
   },
   "id": "2f4a27978fd1c5d1",
   "execution_count": 1
  },
  {
   "cell_type": "code",
   "outputs": [],
   "source": [
    "project = omf.load('../assets/v0/test_file.omf')"
   ],
   "metadata": {
    "collapsed": false,
    "ExecuteTime": {
     "end_time": "2024-01-07T16:21:59.180097Z",
     "start_time": "2024-01-07T16:21:59.017033Z"
    }
   },
   "id": "404a259d94b26eb5",
   "execution_count": 2
  },
  {
   "cell_type": "code",
   "outputs": [
    {
     "data": {
      "text/plain": "'Topography'"
     },
     "execution_count": 3,
     "metadata": {},
     "output_type": "execute_result"
    }
   ],
   "source": [
    "project.elements[2].name"
   ],
   "metadata": {
    "collapsed": false,
    "ExecuteTime": {
     "end_time": "2024-01-07T16:21:59.185053Z",
     "start_time": "2024-01-07T16:21:59.182021Z"
    }
   },
   "id": "1824e621d2438400",
   "execution_count": 3
  },
  {
   "cell_type": "code",
   "outputs": [],
   "source": [
    "topo = project.elements[2]"
   ],
   "metadata": {
    "collapsed": false,
    "ExecuteTime": {
     "end_time": "2024-01-07T16:21:59.187150Z",
     "start_time": "2024-01-07T16:21:59.185469Z"
    }
   },
   "id": "66345de081be448f",
   "execution_count": 4
  },
  {
   "cell_type": "code",
   "outputs": [
    {
     "name": "stdout",
     "output_type": "stream",
     "text": [
      "\n",
      "Surface info:\n",
      "\n",
      "Instance of SurfaceHandler\n",
      "{'__class__': 'Surface',\n",
      " 'attributes': [{'__class__': 'NumericAttribute', 'array': {...}, 'description': '', 'location': 'vertices', 'metadata': {...}, 'name': 'Elevation', 'schema': 'org.omf.v2.attribute.numeric'}],\n",
      " 'description': '',\n",
      " 'metadata': {'color': [152, 223, 138], 'date_created': '2017-02-27T00:21:27Z', 'date_modified': '2017-08-29T18:25:30Z', 'subtype': 'surface'},\n",
      " 'name': 'Topography',\n",
      " 'origin': [0.0, 0.0, 0.0],\n",
      " 'schema': 'org.omf.v2.element.surface',\n",
      " 'textures': [{'__class__': 'ProjectedTexture', 'axis_u': [...], 'axis_v': [...], 'description': '', 'image': {...}, 'metadata': {...}, 'name': '', 'origin': [...], 'schema': 'org.omf.v2.texture.projected'}],\n",
      " 'triangles': {'__class__': 'Array', 'data_type': 'Int64Array', 'schema': 'org.omf.v2.array.numeric', 'shape': [65936, 3], 'size': 1582464},\n",
      " 'vertices': {'__class__': 'Array', 'data_type': 'Float64Array', 'schema': 'org.omf.v2.array.numeric', 'shape': [33669, 3], 'size': 808056}}\n"
     ]
    }
   ],
   "source": [
    "handled_topo = SurfaceHandler(topo)\n",
    "print(handled_topo)"
   ],
   "metadata": {
    "collapsed": false,
    "ExecuteTime": {
     "end_time": "2024-01-07T16:21:59.191212Z",
     "start_time": "2024-01-07T16:21:59.188424Z"
    }
   },
   "id": "3619262ae68440a1",
   "execution_count": 5
  },
  {
   "cell_type": "code",
   "outputs": [],
   "source": [
    "handled_topo.create_gltf_from_dataset('../assets/gltf/terrain')"
   ],
   "metadata": {
    "collapsed": false,
    "ExecuteTime": {
     "end_time": "2024-01-07T16:21:59.738096Z",
     "start_time": "2024-01-07T16:21:59.190728Z"
    }
   },
   "id": "64756eb5c1defce1",
   "execution_count": 6
  }
 ],
 "metadata": {
  "kernelspec": {
   "display_name": "Python 3",
   "language": "python",
   "name": "python3"
  },
  "language_info": {
   "codemirror_mode": {
    "name": "ipython",
    "version": 2
   },
   "file_extension": ".py",
   "mimetype": "text/x-python",
   "name": "python",
   "nbconvert_exporter": "python",
   "pygments_lexer": "ipython2",
   "version": "2.7.6"
  }
 },
 "nbformat": 4,
 "nbformat_minor": 5
}
