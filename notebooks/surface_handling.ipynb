{
 "cells": [
  {
   "cell_type": "code",
   "execution_count": 14,
   "id": "2f4a27978fd1c5d1",
   "metadata": {
    "ExecuteTime": {
     "end_time": "2024-01-10T22:24:26.543283Z",
     "start_time": "2024-01-10T22:24:26.226202Z"
    },
    "collapsed": false
   },
   "outputs": [],
   "source": [
    "import sys\n",
    "sys.path.insert(0, '/Users/denismikulich91/PycharmProjects/omf_viewer')\n",
    "import utils.omf as omf\n",
    "from utils.omfhandlers import SurfaceHandler"
   ]
  },
  {
   "cell_type": "code",
   "execution_count": 15,
   "id": "404a259d94b26eb5",
   "metadata": {
    "ExecuteTime": {
     "end_time": "2024-01-10T22:24:26.743583Z",
     "start_time": "2024-01-10T22:24:26.542742Z"
    },
    "collapsed": false
   },
   "outputs": [],
   "source": [
    "project = omf.load('../assets/v0/test_file.omf')"
   ]
  },
  {
   "cell_type": "code",
   "execution_count": 16,
   "id": "1824e621d2438400",
   "metadata": {
    "ExecuteTime": {
     "end_time": "2024-01-10T22:24:26.748024Z",
     "start_time": "2024-01-10T22:24:26.743569Z"
    },
    "collapsed": false
   },
   "outputs": [
    {
     "data": {
      "text/plain": [
       "'Topography'"
      ]
     },
     "execution_count": 16,
     "metadata": {},
     "output_type": "execute_result"
    }
   ],
   "source": [
    "project.elements[2].name"
   ]
  },
  {
   "cell_type": "code",
   "execution_count": 17,
   "id": "66345de081be448f",
   "metadata": {
    "ExecuteTime": {
     "end_time": "2024-01-10T22:24:26.748322Z",
     "start_time": "2024-01-10T22:24:26.746553Z"
    },
    "collapsed": false
   },
   "outputs": [],
   "source": [
    "topo = project.elements[2]"
   ]
  },
  {
   "cell_type": "code",
   "execution_count": 18,
   "id": "3619262ae68440a1",
   "metadata": {
    "ExecuteTime": {
     "end_time": "2024-01-10T22:24:26.752431Z",
     "start_time": "2024-01-10T22:24:26.749606Z"
    },
    "collapsed": false
   },
   "outputs": [],
   "source": [
    "handled_topo = SurfaceHandler(topo)"
   ]
  },
  {
   "cell_type": "code",
   "execution_count": 19,
   "id": "64756eb5c1defce1",
   "metadata": {
    "ExecuteTime": {
     "end_time": "2024-01-10T22:24:27.334974Z",
     "start_time": "2024-01-10T22:24:26.751113Z"
    },
    "collapsed": false
   },
   "outputs": [
    {
     "name": "stdout",
     "output_type": "stream",
     "text": [
      "33669\n"
     ]
    }
   ],
   "source": [
    "handled_topo.create_gltf_from_dataset('../assets/gltf/terrain')"
   ]
  },
  {
   "cell_type": "code",
   "execution_count": null,
   "id": "d501addbc76497f5",
   "metadata": {
    "ExecuteTime": {
     "end_time": "2024-01-10T22:24:27.336945Z",
     "start_time": "2024-01-10T22:24:27.334459Z"
    },
    "collapsed": false
   },
   "outputs": [],
   "source": []
  },
  {
   "cell_type": "code",
   "execution_count": null,
   "id": "9eecfc6ec8ae3534",
   "metadata": {
    "ExecuteTime": {
     "end_time": "2024-01-10T22:24:27.338588Z",
     "start_time": "2024-01-10T22:24:27.336547Z"
    },
    "collapsed": false
   },
   "outputs": [],
   "source": []
  }
 ],
 "metadata": {
  "kernelspec": {
   "display_name": "Python 3",
   "language": "python",
   "name": "python3"
  },
  "language_info": {
   "codemirror_mode": {
    "name": "ipython",
    "version": 3
   },
   "file_extension": ".py",
   "mimetype": "text/x-python",
   "name": "python",
   "nbconvert_exporter": "python",
   "pygments_lexer": "ipython3",
   "version": "3.12.0"
  }
 },
 "nbformat": 4,
 "nbformat_minor": 5
}
