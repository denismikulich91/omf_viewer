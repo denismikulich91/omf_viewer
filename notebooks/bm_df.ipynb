{
 "cells": [
  {
   "cell_type": "code",
   "outputs": [],
   "source": [
    "from utils.omfhandlers import BlockModelHandler\n",
    "import utils.omf as omf\n",
    "import numpy as np\n",
    "project = omf.load('../assets/v0/test_file.omf')"
   ],
   "metadata": {
    "collapsed": false,
    "ExecuteTime": {
     "end_time": "2024-01-06T21:29:11.875423Z",
     "start_time": "2024-01-06T21:29:11.695991Z"
    }
   },
   "id": "7e4e2c07b0b03fc6",
   "execution_count": 10
  },
  {
   "cell_type": "code",
   "outputs": [],
   "source": [
    "t = project\n",
    "bm = t.elements[-1]"
   ],
   "metadata": {
    "collapsed": false,
    "ExecuteTime": {
     "end_time": "2024-01-06T21:29:11.878913Z",
     "start_time": "2024-01-06T21:29:11.876894Z"
    }
   },
   "id": "d4e86a8dad1e8910",
   "execution_count": 11
  },
  {
   "cell_type": "code",
   "outputs": [],
   "source": [
    "bm_filter = {'CU_pct': ['>=', 2.4]}\n",
    "handled_bm = BlockModelHandler(bm, bm_filter,compact=False)"
   ],
   "metadata": {
    "collapsed": false,
    "ExecuteTime": {
     "end_time": "2024-01-06T21:29:14.788092Z",
     "start_time": "2024-01-06T21:29:11.921590Z"
    }
   },
   "id": "a49616a6180a752b",
   "execution_count": 12
  },
  {
   "cell_type": "code",
   "outputs": [
    {
     "data": {
      "text/plain": "{'CU_pct': ['>=', 2.4]}"
     },
     "execution_count": 13,
     "metadata": {},
     "output_type": "execute_result"
    }
   ],
   "source": [
    "handled_bm.filter"
   ],
   "metadata": {
    "collapsed": false,
    "ExecuteTime": {
     "end_time": "2024-01-06T21:29:14.789935Z",
     "start_time": "2024-01-06T21:29:14.787782Z"
    }
   },
   "id": "50d4213a32bf752",
   "execution_count": 13
  },
  {
   "cell_type": "code",
   "outputs": [
    {
     "data": {
      "text/plain": "         x_size  y_size  z_size   x_coord   y_coord  z_coord  ijk_index bench  \\\n795489     10.0    10.0    10.0  445210.0  494060.0   2660.0  51-126-33  2660   \n808375     10.0    10.0    10.0  445220.0  493800.0   2880.0  52-100-55  2880   \n808376     10.0    10.0    10.0  445220.0  493800.0   2890.0  52-100-56  2890   \n808470     10.0    10.0    10.0  445220.0  493810.0   2870.0  52-101-54  2870   \n808471     10.0    10.0    10.0  445220.0  493810.0   2880.0  52-101-55  2880   \n...         ...     ...     ...       ...       ...      ...        ...   ...   \n1420459    10.0    10.0    10.0  445620.0  493560.0   2760.0   92-76-43  2760   \n1420460    10.0    10.0    10.0  445620.0  493560.0   2770.0   92-76-44  2770   \n1420461    10.0    10.0    10.0  445620.0  493560.0   2780.0   92-76-45  2780   \n1420555    10.0    10.0    10.0  445620.0  493570.0   2760.0   92-77-43  2760   \n1420556    10.0    10.0    10.0  445620.0  493570.0   2770.0   92-77-44  2770   \n\n           CU_pct  \n795489   2.402690  \n808375   2.645824  \n808376   2.669261  \n808470   2.847164  \n808471   2.959733  \n...           ...  \n1420459  2.462210  \n1420460  2.489075  \n1420461  2.467037  \n1420555  2.427582  \n1420556  2.419281  \n\n[9231 rows x 9 columns]",
      "text/html": "<div>\n<style scoped>\n    .dataframe tbody tr th:only-of-type {\n        vertical-align: middle;\n    }\n\n    .dataframe tbody tr th {\n        vertical-align: top;\n    }\n\n    .dataframe thead th {\n        text-align: right;\n    }\n</style>\n<table border=\"1\" class=\"dataframe\">\n  <thead>\n    <tr style=\"text-align: right;\">\n      <th></th>\n      <th>x_size</th>\n      <th>y_size</th>\n      <th>z_size</th>\n      <th>x_coord</th>\n      <th>y_coord</th>\n      <th>z_coord</th>\n      <th>ijk_index</th>\n      <th>bench</th>\n      <th>CU_pct</th>\n    </tr>\n  </thead>\n  <tbody>\n    <tr>\n      <th>795489</th>\n      <td>10.0</td>\n      <td>10.0</td>\n      <td>10.0</td>\n      <td>445210.0</td>\n      <td>494060.0</td>\n      <td>2660.0</td>\n      <td>51-126-33</td>\n      <td>2660</td>\n      <td>2.402690</td>\n    </tr>\n    <tr>\n      <th>808375</th>\n      <td>10.0</td>\n      <td>10.0</td>\n      <td>10.0</td>\n      <td>445220.0</td>\n      <td>493800.0</td>\n      <td>2880.0</td>\n      <td>52-100-55</td>\n      <td>2880</td>\n      <td>2.645824</td>\n    </tr>\n    <tr>\n      <th>808376</th>\n      <td>10.0</td>\n      <td>10.0</td>\n      <td>10.0</td>\n      <td>445220.0</td>\n      <td>493800.0</td>\n      <td>2890.0</td>\n      <td>52-100-56</td>\n      <td>2890</td>\n      <td>2.669261</td>\n    </tr>\n    <tr>\n      <th>808470</th>\n      <td>10.0</td>\n      <td>10.0</td>\n      <td>10.0</td>\n      <td>445220.0</td>\n      <td>493810.0</td>\n      <td>2870.0</td>\n      <td>52-101-54</td>\n      <td>2870</td>\n      <td>2.847164</td>\n    </tr>\n    <tr>\n      <th>808471</th>\n      <td>10.0</td>\n      <td>10.0</td>\n      <td>10.0</td>\n      <td>445220.0</td>\n      <td>493810.0</td>\n      <td>2880.0</td>\n      <td>52-101-55</td>\n      <td>2880</td>\n      <td>2.959733</td>\n    </tr>\n    <tr>\n      <th>...</th>\n      <td>...</td>\n      <td>...</td>\n      <td>...</td>\n      <td>...</td>\n      <td>...</td>\n      <td>...</td>\n      <td>...</td>\n      <td>...</td>\n      <td>...</td>\n    </tr>\n    <tr>\n      <th>1420459</th>\n      <td>10.0</td>\n      <td>10.0</td>\n      <td>10.0</td>\n      <td>445620.0</td>\n      <td>493560.0</td>\n      <td>2760.0</td>\n      <td>92-76-43</td>\n      <td>2760</td>\n      <td>2.462210</td>\n    </tr>\n    <tr>\n      <th>1420460</th>\n      <td>10.0</td>\n      <td>10.0</td>\n      <td>10.0</td>\n      <td>445620.0</td>\n      <td>493560.0</td>\n      <td>2770.0</td>\n      <td>92-76-44</td>\n      <td>2770</td>\n      <td>2.489075</td>\n    </tr>\n    <tr>\n      <th>1420461</th>\n      <td>10.0</td>\n      <td>10.0</td>\n      <td>10.0</td>\n      <td>445620.0</td>\n      <td>493560.0</td>\n      <td>2780.0</td>\n      <td>92-76-45</td>\n      <td>2780</td>\n      <td>2.467037</td>\n    </tr>\n    <tr>\n      <th>1420555</th>\n      <td>10.0</td>\n      <td>10.0</td>\n      <td>10.0</td>\n      <td>445620.0</td>\n      <td>493570.0</td>\n      <td>2760.0</td>\n      <td>92-77-43</td>\n      <td>2760</td>\n      <td>2.427582</td>\n    </tr>\n    <tr>\n      <th>1420556</th>\n      <td>10.0</td>\n      <td>10.0</td>\n      <td>10.0</td>\n      <td>445620.0</td>\n      <td>493570.0</td>\n      <td>2770.0</td>\n      <td>92-77-44</td>\n      <td>2770</td>\n      <td>2.419281</td>\n    </tr>\n  </tbody>\n</table>\n<p>9231 rows × 9 columns</p>\n</div>"
     },
     "execution_count": 14,
     "metadata": {},
     "output_type": "execute_result"
    }
   ],
   "source": [
    "handled_bm.get_bm_dataframe"
   ],
   "metadata": {
    "collapsed": false,
    "ExecuteTime": {
     "end_time": "2024-01-06T21:29:14.798814Z",
     "start_time": "2024-01-06T21:29:14.794299Z"
    }
   },
   "id": "b3fa65e72b88a1e3",
   "execution_count": 14
  },
  {
   "cell_type": "code",
   "outputs": [],
   "source": [
    "handled_bm.create_gltf_from_dataframe('../assets/gltf/block_model')"
   ],
   "metadata": {
    "collapsed": false,
    "ExecuteTime": {
     "end_time": "2024-01-06T21:29:15.814510Z",
     "start_time": "2024-01-06T21:29:14.797076Z"
    }
   },
   "id": "f6f6e0cb07e1f257",
   "execution_count": 15
  },
  {
   "cell_type": "code",
   "outputs": [],
   "source": [],
   "metadata": {
    "collapsed": false,
    "ExecuteTime": {
     "end_time": "2024-01-06T21:29:15.818966Z",
     "start_time": "2024-01-06T21:29:15.814599Z"
    }
   },
   "id": "fc2db81f27155cf4",
   "execution_count": 15
  }
 ],
 "metadata": {
  "kernelspec": {
   "display_name": "Python 3",
   "language": "python",
   "name": "python3"
  },
  "language_info": {
   "codemirror_mode": {
    "name": "ipython",
    "version": 2
   },
   "file_extension": ".py",
   "mimetype": "text/x-python",
   "name": "python",
   "nbconvert_exporter": "python",
   "pygments_lexer": "ipython2",
   "version": "2.7.6"
  }
 },
 "nbformat": 4,
 "nbformat_minor": 5
}
