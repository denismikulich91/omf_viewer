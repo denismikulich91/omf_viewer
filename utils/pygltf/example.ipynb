{
 "cells": [
  {
   "cell_type": "code",
   "outputs": [
    {
     "ename": "ModuleNotFoundError",
     "evalue": "No module named 'utils.pygltf'; 'utils' is not a package",
     "output_type": "error",
     "traceback": [
      "\u001B[0;31m---------------------------------------------------------------------------\u001B[0m",
      "\u001B[0;31mModuleNotFoundError\u001B[0m                       Traceback (most recent call last)",
      "Cell \u001B[0;32mIn[17], line 2\u001B[0m\n\u001B[1;32m      1\u001B[0m \u001B[38;5;66;03m# from utils.omfhandlers import BlockModelHandler\u001B[39;00m\n\u001B[0;32m----> 2\u001B[0m \u001B[38;5;28;01mimport\u001B[39;00m \u001B[38;5;21;01mutils\u001B[39;00m\u001B[38;5;21;01m.\u001B[39;00m\u001B[38;5;21;01mpygltf\u001B[39;00m\u001B[38;5;21;01m.\u001B[39;00m\u001B[38;5;21;01mtools\u001B[39;00m \u001B[38;5;28;01mas\u001B[39;00m \u001B[38;5;21;01mgltf\u001B[39;00m\n\u001B[1;32m      3\u001B[0m \u001B[38;5;28;01mimport\u001B[39;00m \u001B[38;5;21;01mutils\u001B[39;00m\u001B[38;5;21;01m.\u001B[39;00m\u001B[38;5;21;01momf\u001B[39;00m \u001B[38;5;28;01mas\u001B[39;00m \u001B[38;5;21;01momf\u001B[39;00m\n\u001B[1;32m      4\u001B[0m \u001B[38;5;28;01mimport\u001B[39;00m \u001B[38;5;21;01mnumpy\u001B[39;00m \u001B[38;5;28;01mas\u001B[39;00m \u001B[38;5;21;01mnp\u001B[39;00m\n",
      "\u001B[0;31mModuleNotFoundError\u001B[0m: No module named 'utils.pygltf'; 'utils' is not a package"
     ]
    }
   ],
   "source": [
    "# from utils.omfhandlers import BlockModelHandler\n",
    "import utils.pygltf.tools as gltf\n",
    "import utils.omf as omf\n",
    "import numpy as np\n",
    "project = omf.load('../../assets/v0/test_file.omf')"
   ],
   "metadata": {
    "collapsed": false,
    "ExecuteTime": {
     "end_time": "2024-01-06T20:28:08.010617Z",
     "start_time": "2024-01-06T20:28:07.918807Z"
    }
   },
   "id": "a92ca6e29c3dd1a5",
   "execution_count": 17
  },
  {
   "cell_type": "code",
   "outputs": [
    {
     "ename": "NameError",
     "evalue": "name 'project' is not defined",
     "output_type": "error",
     "traceback": [
      "\u001B[0;31m---------------------------------------------------------------------------\u001B[0m",
      "\u001B[0;31mNameError\u001B[0m                                 Traceback (most recent call last)",
      "Cell \u001B[0;32mIn[14], line 1\u001B[0m\n\u001B[0;32m----> 1\u001B[0m t \u001B[38;5;241m=\u001B[39m \u001B[43mproject\u001B[49m\n\u001B[1;32m      2\u001B[0m bm \u001B[38;5;241m=\u001B[39m t\u001B[38;5;241m.\u001B[39melements[\u001B[38;5;241m-\u001B[39m\u001B[38;5;241m1\u001B[39m]\n",
      "\u001B[0;31mNameError\u001B[0m: name 'project' is not defined"
     ]
    }
   ],
   "source": [
    "t = project\n",
    "bm = t.elements[-1]"
   ],
   "metadata": {
    "collapsed": false,
    "ExecuteTime": {
     "end_time": "2024-01-06T18:38:52.857377Z",
     "start_time": "2024-01-06T18:38:52.849311Z"
    }
   },
   "id": "54c3874617c74fcd",
   "execution_count": 14
  },
  {
   "cell_type": "code",
   "outputs": [
    {
     "ename": "NameError",
     "evalue": "name 'bm' is not defined",
     "output_type": "error",
     "traceback": [
      "\u001B[0;31m---------------------------------------------------------------------------\u001B[0m",
      "\u001B[0;31mNameError\u001B[0m                                 Traceback (most recent call last)",
      "Cell \u001B[0;32mIn[15], line 1\u001B[0m\n\u001B[0;32m----> 1\u001B[0m \u001B[43mbm\u001B[49m\u001B[38;5;241m.\u001B[39mserialize()\n\u001B[1;32m      2\u001B[0m bm_filter \u001B[38;5;241m=\u001B[39m {\u001B[38;5;124m'\u001B[39m\u001B[38;5;124mCU_pct\u001B[39m\u001B[38;5;124m'\u001B[39m: [\u001B[38;5;124m'\u001B[39m\u001B[38;5;124m>=\u001B[39m\u001B[38;5;124m'\u001B[39m, \u001B[38;5;241m2.4\u001B[39m]}\n\u001B[1;32m      3\u001B[0m handled_bm \u001B[38;5;241m=\u001B[39m BlockModelHandler(bm, bm_filter)\n",
      "\u001B[0;31mNameError\u001B[0m: name 'bm' is not defined"
     ]
    }
   ],
   "source": [
    "bm.serialize()\n",
    "bm_filter = {'CU_pct': ['>=', 2.4]}\n",
    "handled_bm = BlockModelHandler(bm, bm_filter)\n",
    "bm_df = handled_bm.get_bm_dataframe"
   ],
   "metadata": {
    "collapsed": false,
    "ExecuteTime": {
     "end_time": "2024-01-06T20:26:09.701921Z",
     "start_time": "2024-01-06T20:26:09.694664Z"
    }
   },
   "id": "a147ff67fa54cd06",
   "execution_count": 15
  },
  {
   "cell_type": "code",
   "outputs": [],
   "source": [
    "def normalize_vector(vector):\n",
    "    norm = np.linalg.norm(vector)\n",
    "    return vector / norm if norm != 0 else vector"
   ],
   "metadata": {
    "collapsed": false,
    "ExecuteTime": {
     "end_time": "2024-01-06T18:29:29.289508Z",
     "start_time": "2024-01-06T18:29:29.282838Z"
    }
   },
   "id": "61a600d8b066ae85",
   "execution_count": null
  },
  {
   "cell_type": "code",
   "outputs": [],
   "source": [
    "def set_color(grade):\n",
    "    if grade < 2.5:\n",
    "        color = (0, 0, 1, 1)\n",
    "    elif grade < 3:\n",
    "        color = (0, 0.5, 1, 1)\n",
    "    elif grade < 3.5:\n",
    "        color = (0, 1, 0.5, 1)\n",
    "    elif grade < 4:\n",
    "        color = (1, 1, 0, 1)\n",
    "    elif grade < 4.5:\n",
    "        color = (1, 0.5, 0, 1)\n",
    "    else:\n",
    "        color = (1, 0, 0, 1)\n",
    "    return color"
   ],
   "metadata": {
    "collapsed": false,
    "ExecuteTime": {
     "start_time": "2024-01-06T18:29:29.288896Z"
    }
   },
   "id": "2fcc98c093698766",
   "execution_count": null
  },
  {
   "cell_type": "markdown",
   "source": [
    "Option 1 - common verticies"
   ],
   "metadata": {
    "collapsed": false
   },
   "id": "3e2a5ea34f6363c9"
  },
  {
   "cell_type": "code",
   "outputs": [],
   "source": [
    "def block_model_com(x_size, y_size, z_size, x, y, z, indices_offset, grade):\n",
    "    vertex_data = np.zeros(8, dtype=[\n",
    "        (\"position\", np.float32, 3),\n",
    "        (\"normal\", np.float32, 3),\n",
    "        (\"color\", np.float32, 4),\n",
    "    ])\n",
    "    \n",
    "    \n",
    "    vertex_data[\"position\"] = [\n",
    "        (x, y, z),  # 0 Bottom-front-left\n",
    "        (x + x_size, y, z),  # 1 Bottom-front-right\n",
    "        (x, y + y_size, z),  # 2 Bottom-back-left\n",
    "        (x + x_size, y + y_size, z),  # 3 Bottom-back-right\n",
    "        (x, y, z + z_size),  # 4 Top-front-left\n",
    "        (x + x_size, y, z + z_size),  # 5 Top-front-right\n",
    "        (x, y + y_size, z + z_size),  # 6 Top-back-left\n",
    "        (x + x_size, y + y_size, z + z_size),  # 7 Top-back-right\n",
    "    ]\n",
    "\n",
    "    vertex_data[\"normal\"] = [\n",
    "        (-1, -1, 1),  # 0 Bottom-front-left (average of bottom, front, left face normals)\n",
    "        (1, -1, 1),   # 1 Bottom-front-right (average of bottom, front, right face normals)\n",
    "        (-1, 1, 1),   # 2 Bottom-back-left (average of bottom, back, left face normals)\n",
    "        (1, 1, 1),    # 3 Bottom-back-right (average of bottom, back, right face normals)\n",
    "        (-1, -1, -1), # 4 Top-front-left (average of top, front, left face normals)\n",
    "        (1, -1, -1),  # 5 Top-front-right (average of top, front, right face normals)\n",
    "        (-1, 1, -1),  # 6 Top-back-left (average of top, back, left face normals)\n",
    "        (1, 1, -1),   # 7 Top-back-right (average of top, back, right face normals)\n",
    "    ]\n",
    "\n",
    "    # Normalize the normals\n",
    "    vertex_data[\"normal\"] = [normalize_vector(np.array(normal)) for normal in vertex_data[\"normal\"]]\n",
    "    # vertex_data[\"texCoord0\"] = [(0, 0), (0, +1), (+1, 0), (+1, +1)]\n",
    "    # vertex_data[\"color\"] = [(1, 0, 0, 1), (0, 1, 0, 1), (0, 0, 1, 1), (1, 1, 0, 1)]\n",
    "    \n",
    "    index_data = np.array([\n",
    "        # Front face\n",
    "        0, 1, 2,  # First triangle (bottom-left, bottom-right, top-left)\n",
    "        2, 1, 3,  # Second triangle (top-left, bottom-right, top-right)\n",
    "    \n",
    "        # Back face\n",
    "        5, 4, 7,  # First triangle (bottom-right, bottom-left, top-right)\n",
    "        7, 4, 6,  # Second triangle (top-right, bottom-left, top-left)\n",
    "    \n",
    "        # Top face\n",
    "        2, 3, 6,  # First triangle (top-back-left, top-back-right, top-front-left)\n",
    "        6, 3, 7,  # Second triangle (top-front-left, top-back-right, top-front-right)\n",
    "    \n",
    "        # Bottom face\n",
    "        1, 0, 5,  # First triangle (bottom-back-right, bottom-back-left, bottom-front-right)\n",
    "        5, 0, 4,  # Second triangle (bottom-front-right, bottom-back-left, bottom-front-left)\n",
    "    \n",
    "        # Left face\n",
    "        4, 0, 6,  # First triangle (bottom-front-left, bottom-back-left, top-front-left)\n",
    "        6, 0, 2,  # Second triangle (top-front-left, bottom-back-left, top-back-left)\n",
    "    \n",
    "        # Right face\n",
    "        1, 5, 3,  # First triangle (bottom-back-right, bottom-front-right, top-back-right)\n",
    "        3, 5, 7,  # Second triangle (top-back-right, bottom-front-right, top-front-right)\n",
    "    ], dtype=np.uint16)+ indices_offset * 8\n",
    "\n",
    "    \n",
    "    color = set_color(grade)\n",
    "    vertex_data[\"color\"] = [color] * 8\n",
    "\n",
    "\n",
    "    return vertex_data, index_data"
   ],
   "metadata": {
    "collapsed": false,
    "ExecuteTime": {
     "end_time": "2024-01-06T18:29:29.308171Z",
     "start_time": "2024-01-06T18:29:29.292412Z"
    }
   },
   "id": "672e14b4fe1447ec",
   "execution_count": null
  },
  {
   "cell_type": "markdown",
   "source": [
    "Option 2 Individual verticies"
   ],
   "metadata": {
    "collapsed": false
   },
   "id": "550935c95fce9f3e"
  },
  {
   "cell_type": "code",
   "outputs": [],
   "source": [
    "def block_model_ind(x_size, y_size, z_size, x, y, z, indices_offset, grade):\n",
    "    vertex_data = np.zeros(24, dtype=[\n",
    "        (\"position\", np.float32, 3),\n",
    "        (\"normal\", np.float32, 3),\n",
    "        (\"color\", np.float32, 4),\n",
    "    ])\n",
    "    # v6----------v5\n",
    "    # /|          /|\n",
    "    # v1---------v0|\n",
    "    # | |        | |\n",
    "    # | |v7------|-|v4\n",
    "    # |/         |/\n",
    "    # v2---------v3\n",
    "    vertex_data[\"position\"] = [\n",
    "        # v0-v1-v2-v3 front\n",
    "        (x + x_size, y, z + z_size), (x, y, z + z_size), (x, y, z), (x + x_size, y, z),\n",
    "        # v0-v3-v4-v5 right\n",
    "        (x + x_size, y, z + z_size), (x + x_size, y, z), (x + x_size, y + y_size, z), (x + x_size, y + y_size, z + z_size), \n",
    "        # v0-v5-v6-v1 up\n",
    "        (x + x_size, y, z + z_size), (x + x_size, y + y_size, z + z_size), (x, y + y_size, z + z_size), (x, y, z + z_size),\n",
    "        # v1-v6-v7-v2 left\n",
    "        (x, y, z + z_size), (x, y + y_size, z + z_size), (x, y + y_size, z), (x, y, z),\n",
    "        # v7-v4-v3-v2 down\n",
    "        (x, y + y_size, z), (x + x_size, y + y_size, z), (x + x_size, y, z), (x, y, z),\n",
    "        # v4-v7-v6-v5 back\n",
    "        (x + x_size, y + y_size, z), (x, y + y_size, z), (x, y + y_size, z + z_size), (x + x_size, y + y_size, z + z_size),\n",
    "    ]\n",
    "\n",
    "    vertex_data[\"normal\"] = [\n",
    "                (0.0, 0.0, 1.0), (0.0, 0.0, 1.0), (0.0, 0.0, 1.0), (0.0, 0.0, 1.0), # v0-v1-v2-v3 front\n",
    "                (1.0, 0.0, 0.0), (1.0, 0.0, 0.0), (1.0, 0.0, 0.0), (1.0, 0.0, 0.0), # v0-v3-v4-v5 right\n",
    "                (0.0, 1.0, 0.0), (0.0, 1.0, 0.0), (0.0, 1.0, 0.0), (0.0, 1.0, 0.0), # v0-v5-v6-v1 up\n",
    "                (-1.0, 0.0, 0.0), (-1.0, 0.0, 0.0), (-1.0, 0.0, 0.0), (-1.0, 0.0, 0.0), # v1-v6-v7-v2 left\n",
    "                (0.0, -1.0, 0.0), (0.0, -1.0, 0.0), (0.0, -1.0, 0.0), (0.0, -1.0, 0.0),# v7-v4-v3-v2 down\n",
    "                (0.0, 0.0, -1.0), (0.0, 0.0, -1.0), (0.0, 0.0, -1.0), (0.0, 0.0, -1.0) # v4-v7-v6-v5 back  \n",
    "            ]\n",
    "    vertex_data[\"normal\"] = [normalize_vector(np.array(normal)) for normal in vertex_data[\"normal\"]]\n",
    "    \n",
    "    index_data = np.array([\n",
    "        0, 1, 2, 0, 2, 3,       # front\n",
    "        4, 5, 6, 4, 6, 7,       # right\n",
    "        8, 9, 10, 8, 10, 11,    # up\n",
    "        12, 13, 14, 12, 14, 15, # left\n",
    "        16, 17, 18, 16, 18, 19, # down\n",
    "        20, 21, 22, 20, 22, 23  # back \n",
    "    ], dtype=np.uint16) + indices_offset * 24\n",
    "    color = set_color(grade)\n",
    "    vertex_data[\"color\"] = [color] * 24\n",
    "\n",
    "\n",
    "    return vertex_data, index_data"
   ],
   "metadata": {
    "collapsed": false,
    "ExecuteTime": {
     "start_time": "2024-01-06T18:29:29.300986Z"
    }
   },
   "id": "a4bdd2fda1ac1e84",
   "execution_count": null
  },
  {
   "cell_type": "code",
   "outputs": [],
   "source": [
    "vertex_data_list = []\n",
    "index_data_list = []\n",
    "indices_offset = 0\n",
    "\n",
    "for index, block in bm_df.iterrows():\n",
    "    vertex_data, index_data = block_model_ind(block['x_size'], block['y_size'], block['z_size'], block['x_coord'], block['y_coord'], block['z_coord'], indices_offset, block['CU_pct'])\n",
    "    indices_offset += 1\n",
    "\n",
    "    vertex_data_list.append(vertex_data)\n",
    "    index_data_list.append(index_data)\n",
    "\n",
    "# Concatenate data\n",
    "final_vertex_data = np.concatenate(vertex_data_list)\n",
    "final_index_data = np.concatenate(index_data_list)"
   ],
   "metadata": {
    "collapsed": false,
    "ExecuteTime": {
     "start_time": "2024-01-06T18:29:29.307360Z"
    }
   },
   "id": "5aa6786003f80e59",
   "execution_count": null
  },
  {
   "cell_type": "code",
   "outputs": [],
   "source": [
    "gltf_path = \"../../assets/gltf/block_model_individual.gltf\"\n",
    "bin_path = \"../../assets/gltf/block_model_individual.bin\"\n",
    "\n",
    "document, buffers = gltf.numpy_to_gltf(final_vertex_data, final_index_data, gltf_path, bin_path)\n",
    "\n",
    "gltf.save(gltf_path, bin_path, document, buffers)\n",
    "buffers"
   ],
   "metadata": {
    "collapsed": false,
    "ExecuteTime": {
     "end_time": "2024-01-06T18:29:29.328333Z",
     "start_time": "2024-01-06T18:29:29.320517Z"
    }
   },
   "id": "b2ca8af83a1d9197",
   "execution_count": null
  },
  {
   "cell_type": "code",
   "outputs": [],
   "source": [],
   "metadata": {
    "collapsed": false,
    "ExecuteTime": {
     "end_time": "2024-01-06T18:29:29.328889Z",
     "start_time": "2024-01-06T18:29:29.328721Z"
    }
   },
   "id": "fb1db22468a282e5",
   "execution_count": null
  }
 ],
 "metadata": {
  "kernelspec": {
   "display_name": "Python 3",
   "language": "python",
   "name": "python3"
  },
  "language_info": {
   "codemirror_mode": {
    "name": "ipython",
    "version": 2
   },
   "file_extension": ".py",
   "mimetype": "text/x-python",
   "name": "python",
   "nbconvert_exporter": "python",
   "pygments_lexer": "ipython2",
   "version": "2.7.6"
  }
 },
 "nbformat": 4,
 "nbformat_minor": 5
}
