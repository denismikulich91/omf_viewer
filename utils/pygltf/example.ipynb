{
 "cells": [
  {
   "cell_type": "code",
   "outputs": [],
   "source": [
    "from utils.omfhandlers import BlockModelHandler\n",
    "import example as gltf\n",
    "import utils.omf as omf\n",
    "import numpy as np\n",
    "project = omf.load('../../assets/v0/test_file.omf')"
   ],
   "metadata": {
    "collapsed": false,
    "ExecuteTime": {
     "end_time": "2024-01-06T13:12:25.266295Z",
     "start_time": "2024-01-06T13:12:25.080522Z"
    }
   },
   "id": "a92ca6e29c3dd1a5",
   "execution_count": 118
  },
  {
   "cell_type": "code",
   "outputs": [],
   "source": [
    "t = project\n",
    "bm = t.elements[-1]"
   ],
   "metadata": {
    "collapsed": false,
    "ExecuteTime": {
     "end_time": "2024-01-06T13:12:25.270616Z",
     "start_time": "2024-01-06T13:12:25.266295Z"
    }
   },
   "id": "54c3874617c74fcd",
   "execution_count": 119
  },
  {
   "cell_type": "code",
   "outputs": [],
   "source": [
    "bm.serialize()\n",
    "handled_bm = BlockModelHandler(bm)\n",
    "bm_df = handled_bm.get_bm_dataframe\n",
    "bm_df = bm_df[bm_df['CU_pct'] >= 2.4]\n"
   ],
   "metadata": {
    "collapsed": false,
    "ExecuteTime": {
     "end_time": "2024-01-06T13:12:28.128482Z",
     "start_time": "2024-01-06T13:12:25.267490Z"
    }
   },
   "id": "a147ff67fa54cd06",
   "execution_count": 120
  },
  {
   "cell_type": "code",
   "outputs": [],
   "source": [
    "def normalize_vector(vector):\n",
    "    norm = np.linalg.norm(vector)\n",
    "    return vector / norm if norm != 0 else vector"
   ],
   "metadata": {
    "collapsed": false,
    "ExecuteTime": {
     "end_time": "2024-01-06T13:12:28.130442Z",
     "start_time": "2024-01-06T13:12:28.128550Z"
    }
   },
   "id": "61a600d8b066ae85",
   "execution_count": 121
  },
  {
   "cell_type": "code",
   "outputs": [],
   "source": [
    "def set_color(grade):\n",
    "    if grade < 2.5:\n",
    "        color = (0, 0, 1, 1)\n",
    "    elif grade < 3:\n",
    "        color = (0, 0.5, 1, 1)\n",
    "    elif grade < 3.5:\n",
    "        color = (0, 1, 0.5, 1)\n",
    "    elif grade < 4:\n",
    "        color = (1, 1, 0, 1)\n",
    "    elif grade < 4.5:\n",
    "        color = (1, 0.5, 0, 1)\n",
    "    else:\n",
    "        color = (1, 0, 0, 1)\n",
    "    return color"
   ],
   "metadata": {
    "collapsed": false,
    "ExecuteTime": {
     "end_time": "2024-01-06T13:12:28.136114Z",
     "start_time": "2024-01-06T13:12:28.131641Z"
    }
   },
   "id": "2fcc98c093698766",
   "execution_count": 122
  },
  {
   "cell_type": "markdown",
   "source": [
    "Option 1 - common verticies"
   ],
   "metadata": {
    "collapsed": false
   },
   "id": "3e2a5ea34f6363c9"
  },
  {
   "cell_type": "code",
   "outputs": [],
   "source": [
    "def block_model_com(x_size, y_size, z_size, x, y, z, indices_offset, grade):\n",
    "    vertex_data = np.zeros(8, dtype=[\n",
    "        (\"position\", np.float32, 3),\n",
    "        (\"normal\", np.float32, 3),\n",
    "        (\"color\", np.float32, 4),\n",
    "    ])\n",
    "    \n",
    "    \n",
    "    vertex_data[\"position\"] = [\n",
    "        (x, y, z),  # 0 Bottom-front-left\n",
    "        (x + x_size, y, z),  # 1 Bottom-front-right\n",
    "        (x, y + y_size, z),  # 2 Bottom-back-left\n",
    "        (x + x_size, y + y_size, z),  # 3 Bottom-back-right\n",
    "        (x, y, z + z_size),  # 4 Top-front-left\n",
    "        (x + x_size, y, z + z_size),  # 5 Top-front-right\n",
    "        (x, y + y_size, z + z_size),  # 6 Top-back-left\n",
    "        (x + x_size, y + y_size, z + z_size),  # 7 Top-back-right\n",
    "    ]\n",
    "\n",
    "    vertex_data[\"normal\"] = [\n",
    "        (-1, -1, 1),  # 0 Bottom-front-left (average of bottom, front, left face normals)\n",
    "        (1, -1, 1),   # 1 Bottom-front-right (average of bottom, front, right face normals)\n",
    "        (-1, 1, 1),   # 2 Bottom-back-left (average of bottom, back, left face normals)\n",
    "        (1, 1, 1),    # 3 Bottom-back-right (average of bottom, back, right face normals)\n",
    "        (-1, -1, -1), # 4 Top-front-left (average of top, front, left face normals)\n",
    "        (1, -1, -1),  # 5 Top-front-right (average of top, front, right face normals)\n",
    "        (-1, 1, -1),  # 6 Top-back-left (average of top, back, left face normals)\n",
    "        (1, 1, -1),   # 7 Top-back-right (average of top, back, right face normals)\n",
    "    ]\n",
    "\n",
    "    # Normalize the normals\n",
    "    vertex_data[\"normal\"] = [normalize_vector(np.array(normal)) for normal in vertex_data[\"normal\"]]\n",
    "    # vertex_data[\"texCoord0\"] = [(0, 0), (0, +1), (+1, 0), (+1, +1)]\n",
    "    # vertex_data[\"color\"] = [(1, 0, 0, 1), (0, 1, 0, 1), (0, 0, 1, 1), (1, 1, 0, 1)]\n",
    "    \n",
    "    index_data = np.array([\n",
    "        # Front face\n",
    "        0, 1, 2,  # First triangle (bottom-left, bottom-right, top-left)\n",
    "        2, 1, 3,  # Second triangle (top-left, bottom-right, top-right)\n",
    "    \n",
    "        # Back face\n",
    "        5, 4, 7,  # First triangle (bottom-right, bottom-left, top-right)\n",
    "        7, 4, 6,  # Second triangle (top-right, bottom-left, top-left)\n",
    "    \n",
    "        # Top face\n",
    "        2, 3, 6,  # First triangle (top-back-left, top-back-right, top-front-left)\n",
    "        6, 3, 7,  # Second triangle (top-front-left, top-back-right, top-front-right)\n",
    "    \n",
    "        # Bottom face\n",
    "        1, 0, 5,  # First triangle (bottom-back-right, bottom-back-left, bottom-front-right)\n",
    "        5, 0, 4,  # Second triangle (bottom-front-right, bottom-back-left, bottom-front-left)\n",
    "    \n",
    "        # Left face\n",
    "        4, 0, 6,  # First triangle (bottom-front-left, bottom-back-left, top-front-left)\n",
    "        6, 0, 2,  # Second triangle (top-front-left, bottom-back-left, top-back-left)\n",
    "    \n",
    "        # Right face\n",
    "        1, 5, 3,  # First triangle (bottom-back-right, bottom-front-right, top-back-right)\n",
    "        3, 5, 7,  # Second triangle (top-back-right, bottom-front-right, top-front-right)\n",
    "    ], dtype=np.uint16)+ indices_offset * 8\n",
    "\n",
    "    \n",
    "    color = set_color(grade)\n",
    "    vertex_data[\"color\"] = [color] * 8\n",
    "\n",
    "\n",
    "    return vertex_data, index_data"
   ],
   "metadata": {
    "collapsed": false,
    "ExecuteTime": {
     "end_time": "2024-01-06T13:12:28.139667Z",
     "start_time": "2024-01-06T13:12:28.133560Z"
    }
   },
   "id": "672e14b4fe1447ec",
   "execution_count": 123
  },
  {
   "cell_type": "markdown",
   "source": [
    "Option 2 Individual verticies"
   ],
   "metadata": {
    "collapsed": false
   },
   "id": "550935c95fce9f3e"
  },
  {
   "cell_type": "code",
   "outputs": [],
   "source": [
    "def block_model_ind(x_size, y_size, z_size, x, y, z, indices_offset, grade):\n",
    "    vertex_data = np.zeros(24, dtype=[\n",
    "        (\"position\", np.float32, 3),\n",
    "        (\"normal\", np.float32, 3),\n",
    "        (\"color\", np.float32, 4),\n",
    "    ])\n",
    "    # v6----------v5\n",
    "    # /|          /|\n",
    "    # v1---------v0|\n",
    "    # | |        | |\n",
    "    # | |v7------|-|v4\n",
    "    # |/         |/\n",
    "    # v2---------v3\n",
    "    vertex_data[\"position\"] = [\n",
    "        # v0-v1-v2-v3 front\n",
    "        (x + x_size, y, z + z_size), (x, y, z + z_size), (x, y, z), (x + x_size, y, z),\n",
    "        # v0-v3-v4-v5 right\n",
    "        (x + x_size, y, z + z_size), (x + x_size, y, z), (x + x_size, y + y_size, z), (x + x_size, y + y_size, z + z_size), \n",
    "        # v0-v5-v6-v1 up\n",
    "        (x + x_size, y, z + z_size), (x + x_size, y + y_size, z + z_size), (x, y + y_size, z + z_size), (x, y, z + z_size),\n",
    "        # v1-v6-v7-v2 left\n",
    "        (x, y, z + z_size), (x, y + y_size, z + z_size), (x, y + y_size, z), (x, y, z),\n",
    "        # v7-v4-v3-v2 down\n",
    "        (x, y + y_size, z), (x + x_size, y + y_size, z), (x + x_size, y, z), (x, y, z),\n",
    "        # v4-v7-v6-v5 back\n",
    "        (x + x_size, y + y_size, z), (x, y + y_size, z), (x, y + y_size, z + z_size), (x + x_size, y + y_size, z + z_size),\n",
    "    ]\n",
    "\n",
    "    vertex_data[\"normal\"] = [\n",
    "                (0.0, 0.0, 1.0), (0.0, 0.0, 1.0), (0.0, 0.0, 1.0), (0.0, 0.0, 1.0), # v0-v1-v2-v3 front\n",
    "                (1.0, 0.0, 0.0), (1.0, 0.0, 0.0), (1.0, 0.0, 0.0), (1.0, 0.0, 0.0), # v0-v3-v4-v5 right\n",
    "                (0.0, 1.0, 0.0), (0.0, 1.0, 0.0), (0.0, 1.0, 0.0), (0.0, 1.0, 0.0), # v0-v5-v6-v1 up\n",
    "                (-1.0, 0.0, 0.0), (-1.0, 0.0, 0.0), (-1.0, 0.0, 0.0), (-1.0, 0.0, 0.0), # v1-v6-v7-v2 left\n",
    "                (0.0, -1.0, 0.0), (0.0, -1.0, 0.0), (0.0, -1.0, 0.0), (0.0, -1.0, 0.0),# v7-v4-v3-v2 down\n",
    "                (0.0, 0.0, -1.0), (0.0, 0.0, -1.0), (0.0, 0.0, -1.0), (0.0, 0.0, -1.0) # v4-v7-v6-v5 back  \n",
    "            ]\n",
    "    vertex_data[\"normal\"] = [normalize_vector(np.array(normal)) for normal in vertex_data[\"normal\"]]\n",
    "    \n",
    "    index_data = np.array([\n",
    "        0, 1, 2, 0, 2, 3,       # front\n",
    "        4, 5, 6, 4, 6, 7,       # right\n",
    "        8, 9, 10, 8, 10, 11,    # up\n",
    "        12, 13, 14, 12, 14, 15, # left\n",
    "        16, 17, 18, 16, 18, 19, # down\n",
    "        20, 21, 22, 20, 22, 23  # back \n",
    "    ], dtype=np.uint16) + indices_offset * 24\n",
    "    color = set_color(grade)\n",
    "    vertex_data[\"color\"] = [color] * 24\n",
    "\n",
    "\n",
    "    return vertex_data, index_data"
   ],
   "metadata": {
    "collapsed": false,
    "ExecuteTime": {
     "end_time": "2024-01-06T13:12:28.143197Z",
     "start_time": "2024-01-06T13:12:28.141065Z"
    }
   },
   "id": "a4bdd2fda1ac1e84",
   "execution_count": 124
  },
  {
   "cell_type": "code",
   "outputs": [],
   "source": [
    "vertex_data_list = []\n",
    "index_data_list = []\n",
    "indices_offset = 0\n",
    "\n",
    "for index, block in bm_df.iterrows():\n",
    "    vertex_data, index_data = block_model_ind(block['x_size'], block['y_size'], block['z_size'], block['x_coord'], block['y_coord'], block['z_coord'], indices_offset, block['CU_pct'])\n",
    "    indices_offset += 1\n",
    "\n",
    "    vertex_data_list.append(vertex_data)\n",
    "    index_data_list.append(index_data)\n",
    "\n",
    "# Concatenate data\n",
    "final_vertex_data = np.concatenate(vertex_data_list)\n",
    "final_index_data = np.concatenate(index_data_list)"
   ],
   "metadata": {
    "collapsed": false,
    "ExecuteTime": {
     "end_time": "2024-01-06T13:12:29.121171Z",
     "start_time": "2024-01-06T13:12:28.152211Z"
    }
   },
   "id": "5aa6786003f80e59",
   "execution_count": 125
  },
  {
   "cell_type": "code",
   "outputs": [
    {
     "data": {
      "text/plain": "[array([([445220., 494060.,   2670.], [ 0.,  0.,  1.], [0., 0., 1., 1.]),\n        ([445210., 494060.,   2670.], [ 0.,  0.,  1.], [0., 0., 1., 1.]),\n        ([445210., 494060.,   2660.], [ 0.,  0.,  1.], [0., 0., 1., 1.]),\n        ...,\n        ([445620., 493580.,   2770.], [ 0.,  0., -1.], [0., 0., 1., 1.]),\n        ([445620., 493580.,   2780.], [ 0.,  0., -1.], [0., 0., 1., 1.]),\n        ([445630., 493580.,   2780.], [ 0.,  0., -1.], [0., 0., 1., 1.])],\n       dtype=[('position', '<f4', (3,)), ('normal', '<f4', (3,)), ('color', '<f4', (4,))]),\n array([     0,      1,      2, ..., 221540, 221542, 221543], dtype=uint32)]"
     },
     "execution_count": 126,
     "metadata": {},
     "output_type": "execute_result"
    }
   ],
   "source": [
    "gltf_path = \"../../assets/gltf/block_model_individual.gltf\"\n",
    "bin_path = \"../../assets/gltf/block_model_individual.bin\"\n",
    "\n",
    "document, buffers = gltf.numpy_to_gltf(final_vertex_data, final_index_data, gltf_path, bin_path)\n",
    "\n",
    "gltf.save(gltf_path, bin_path, document, buffers)\n",
    "buffers"
   ],
   "metadata": {
    "collapsed": false,
    "ExecuteTime": {
     "end_time": "2024-01-06T13:12:29.132561Z",
     "start_time": "2024-01-06T13:12:29.121520Z"
    }
   },
   "id": "b2ca8af83a1d9197",
   "execution_count": 126
  },
  {
   "cell_type": "code",
   "outputs": [],
   "source": [],
   "metadata": {
    "collapsed": false,
    "ExecuteTime": {
     "end_time": "2024-01-06T13:12:29.136975Z",
     "start_time": "2024-01-06T13:12:29.133524Z"
    }
   },
   "id": "fb1db22468a282e5",
   "execution_count": 126
  }
 ],
 "metadata": {
  "kernelspec": {
   "display_name": "Python 3",
   "language": "python",
   "name": "python3"
  },
  "language_info": {
   "codemirror_mode": {
    "name": "ipython",
    "version": 2
   },
   "file_extension": ".py",
   "mimetype": "text/x-python",
   "name": "python",
   "nbconvert_exporter": "python",
   "pygments_lexer": "ipython2",
   "version": "2.7.6"
  }
 },
 "nbformat": 4,
 "nbformat_minor": 5
}
